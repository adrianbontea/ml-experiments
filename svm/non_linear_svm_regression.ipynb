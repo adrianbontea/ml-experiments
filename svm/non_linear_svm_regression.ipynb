{
 "cells": [
  {
   "cell_type": "code",
   "execution_count": 1,
   "metadata": {},
   "outputs": [],
   "source": [
    "import numpy as np\n",
    "import matplotlib.pyplot as plt\n",
    "from sklearn.svm import LinearSVR, SVR\n",
    "from sklearn.preprocessing import PolynomialFeatures\n",
    "import warnings\n",
    "\n",
    "warnings.simplefilter(\"ignore\")"
   ]
  },
  {
   "cell_type": "markdown",
   "metadata": {},
   "source": [
    "**Generate some non-linear data based on a quadratic equation**"
   ]
  },
  {
   "cell_type": "code",
   "execution_count": 2,
   "metadata": {},
   "outputs": [
    {
     "data": {
      "image/png": "[encoded data removed]",
      "text/plain": [
       "<Figure size 432x288 with 1 Axes>"
      ]
     },
     "metadata": {
      "needs_background": "light"
     },
     "output_type": "display_data"
    }
   ],
   "source": [
    "m = 100\n",
    "X = 6 * np.random.uniform(1, 5, (m, 1)) - 3\n",
    "y = 0.5 * X ** 2 + X + 2 + np.random.uniform(1, 5, (m, 1))\n",
    "\n",
    "plt.plot(X, y, \".\")\n",
    "plt.show()"
   ]
  },
  {
   "cell_type": "markdown",
   "metadata": {},
   "source": [
    "**To tackle nonlinear regression tasks, you can use a kernelized SVM model**"
   ]
  },
  {
   "cell_type": "code",
   "execution_count": 3,
   "metadata": {},
   "outputs": [
    {
     "name": "stdout",
     "output_type": "stream",
     "text": [
      "Prediction for: [14.58845102]\n",
      "[124.67639878]\n",
      "Label: [125.95767498]\n"
     ]
    }
   ],
   "source": [
    "svm_poly_reg = SVR(kernel=\"poly\", degree=2, C=100, epsilon=0.1)\n",
    "svm_poly_reg.fit(X, y)\n",
    "\n",
    "rand_index = np.random.randint(0, 99)\n",
    "x = X[rand_index, ]\n",
    "print(\"Prediction for:\", x)\n",
    "print(svm_poly_reg.predict([x]))\n",
    "print(\"Label:\", y[rand_index, ])"
   ]
  },
  {
   "cell_type": "markdown",
   "metadata": {},
   "source": [
    "**... or just use the Linear SVR algorithm with polynomial features**"
   ]
  },
  {
   "cell_type": "code",
   "execution_count": 4,
   "metadata": {},
   "outputs": [
    {
     "name": "stdout",
     "output_type": "stream",
     "text": [
      "Prediction for: [  1.          14.45552732 208.96227007]\n",
      "[125.15822943]\n",
      "Label: [123.7338521]\n"
     ]
    }
   ],
   "source": [
    "polly = PolynomialFeatures(degree=2)  # Polynomial degree is usually number of features + 1?\n",
    "X_tr = polly.fit_transform(X)\n",
    "\n",
    "svm_reg = LinearSVR(epsilon=1.5)\n",
    "svm_reg.fit(X_tr, y)\n",
    "\n",
    "rand_index = np.random.randint(0, 99)\n",
    "x = X_tr[rand_index, ]\n",
    "print(\"Prediction for:\", x)\n",
    "print(svm_reg.predict([x]))\n",
    "print(\"Label:\", y[rand_index, ])"
   ]
  }
 ],
 "metadata": {
  "kernelspec": {
   "display_name": "Python 3",
   "language": "python",
   "name": "python3"
  },
  "language_info": {
   "codemirror_mode": {
    "name": "ipython",
    "version": 3
   },
   "file_extension": ".py",
   "mimetype": "text/x-python",
   "name": "python",
   "nbconvert_exporter": "python",
   "pygments_lexer": "ipython3",
   "version": "3.7.2"
  }
 },
 "nbformat": 4,
 "nbformat_minor": 2
}
