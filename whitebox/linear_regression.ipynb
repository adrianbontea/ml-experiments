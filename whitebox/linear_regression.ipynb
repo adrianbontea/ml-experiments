{
 "cells": [
  {
   "cell_type": "code",
   "execution_count": 16,
   "metadata": {},
   "outputs": [],
   "source": [
    "import numpy as np\n",
    "import matplotlib.pyplot as plt\n",
    "from sklearn.linear_model import LinearRegression\n",
    "import warnings\n",
    "\n",
    "warnings.simplefilter(\"ignore\")"
   ]
  },
  {
   "cell_type": "markdown",
   "metadata": {},
   "source": [
    "**Generate some linear-looking data to test the normal equation. Note: X is a ndarray of shape (100,1) simulating a training set of 100 instances with one feature each. y is a ndarray of shape (100,1) simulating the labels for the 100 training instances. y is a linear-ish model introducing some noise (+ np.random.uniform(1, 5, (100, 1)) to the linear equation (y = ax + b)**"
   ]
  },
  {
   "cell_type": "code",
   "execution_count": 17,
   "metadata": {},
   "outputs": [
    {
     "data": {
      "image/png": "[encoded data removed]",
      "text/plain": [
       "<Figure size 432x288 with 1 Axes>"
      ]
     },
     "metadata": {
      "needs_background": "light"
     },
     "output_type": "display_data"
    }
   ],
   "source": [
    "X = 2 * np.random.randn(100, 1)\n",
    "y = 4 + 3 * X + np.random.randn(100, 1)\n",
    "\n",
    "plt.plot(X, y, \".\")\n",
    "plt.show()"
   ]
  },
  {
   "cell_type": "markdown",
   "metadata": {},
   "source": [
    "**Normal equation: $\\Theta=(X^T*X)^{-1}*X^T*y$**"
   ]
  },
  {
   "cell_type": "markdown",
   "metadata": {},
   "source": [
    "**The equation gives the value of Theta that minimizes the MSE cost function. Note the inverse of a matrix A noted $A^{-1}$ is a matrix in such a way that $A*A^{-1}=I$ (identity matrix = 1 on the main diagonal and all other elements 0)**"
   ]
  },
  {
   "cell_type": "markdown",
   "metadata": {},
   "source": [
    "**Add bias X0 = 1 to each instance**"
   ]
  },
  {
   "cell_type": "code",
   "execution_count": 18,
   "metadata": {},
   "outputs": [
    {
     "name": "stdout",
     "output_type": "stream",
     "text": [
      "Parameters vector as determined by the normal equation:[[3.88323508]\n",
      " [2.98912288]]\n"
     ]
    }
   ],
   "source": [
    "X_b = np.append(np.ones((100, 1)), X, axis=1)\n",
    "theta_best = np.linalg.inv(X_b.T.dot(X_b)).dot(X_b.T).dot(y)\n",
    "\n",
    "print(f\"Parameters vector as determined by the normal equation:{theta_best}\")"
   ]
  },
  {
   "cell_type": "markdown",
   "metadata": {},
   "source": [
    "**Use the parameters computed via normal equation to make predictions**"
   ]
  },
  {
   "cell_type": "code",
   "execution_count": 19,
   "metadata": {},
   "outputs": [
    {
     "name": "stdout",
     "output_type": "stream",
     "text": [
      "Predictions based on parameters computed via normal equation:[[ 6.87235796]\n",
      " [12.85060371]]\n"
     ]
    }
   ],
   "source": [
    "X_new = np.array([[1], [3]])\n",
    "X_new_b = np.append(np.ones((2, 1)), X_new, axis=1)\n",
    "y_predict = X_new_b.dot(theta_best)\n",
    "\n",
    "print(f\"Predictions based on parameters computed via normal equation:{y_predict}\")"
   ]
  },
  {
   "cell_type": "markdown",
   "metadata": {},
   "source": [
    "**Compute the same using Scikit-Learn and compare - the predictions should be identical!**"
   ]
  },
  {
   "cell_type": "code",
   "execution_count": 20,
   "metadata": {},
   "outputs": [
    {
     "name": "stdout",
     "output_type": "stream",
     "text": [
      "Predictions done by Scikit-Learn:[[ 6.87235796]\n",
      " [12.85060371]]\n"
     ]
    }
   ],
   "source": [
    "lin_reg = LinearRegression()\n",
    "lin_reg.fit(X, y)\n",
    "print(f\"Predictions done by Scikit-Learn:{lin_reg.predict(X_new)}\")"
   ]
  },
  {
   "cell_type": "markdown",
   "metadata": {},
   "source": [
    "**The Normal Equation gets very slow when the number of features grows large! On the positive side, this equation is linear with regards to the number of instances in the training set (it is O(m)), so it handles large training sets efficiently, provided they can fit in memory.**"
   ]
  },
  {
   "cell_type": "markdown",
   "metadata": {},
   "source": [
    "**Also, once you have trained your Linear Regression model, predictions are very fast: the computational complexity is linear with regards to both the number of instances you want to make predictions on and the number of features. In other words, making predictions on twice as many instances (or twice as many features) will just take roughly twice as much time.**"
   ]
  },
  {
   "cell_type": "markdown",
   "metadata": {},
   "source": [
    "**Fit the training set (determine theta best) using Batch Gradient Descent. The result should be the same as normal equation. Batch gradient descent involves computing the partial derivatives of the MSE cost function with respect to each parameter and then the value of the derivatives in point theta (coordinates) at each training step! That is because the derivative of a function determines the slope of the tangent to the function curve in a certain point. Hence these partial derivatives are about determining the slope of the cost function with regards to each axis represented by each model parameter, trying to reach a global minimum for the cost function.**"
   ]
  },
  {
   "cell_type": "markdown",
   "metadata": {},
   "source": [
    "**For a certain parameter $\\theta_j$, the partial derivative (gradient) will be: $\\frac{2}{m}*\\sum_{i=1}^m (\\theta^T*x^{(i)}-y^{(i)})*x_j^{(i)}$ (feature j from instance i)**"
   ]
  },
  {
   "cell_type": "markdown",
   "metadata": {},
   "source": [
    "**A vector of all these gradients for the whole training set: $\\frac{2}{m}*X^T*(X*\\theta - y)$**"
   ]
  },
  {
   "cell_type": "markdown",
   "metadata": {},
   "source": [
    "**This is why the algorithm is called Batch Gradient Descent: it uses the whole batch of training data at every step. As a result it is terribly slow on very large training sets. However, Gradient Descent scales well with the number of features; training a Linear Regression model when there are hundreds of thousands of featuresis much faster using Gradient Descent than using the Normal Equation.**"
   ]
  },
  {
   "cell_type": "code",
   "execution_count": 21,
   "metadata": {},
   "outputs": [
    {
     "name": "stdout",
     "output_type": "stream",
     "text": [
      "Parameters vector as determined by Batch Gradient Descent:[[3.88323508]\n",
      " [2.98912288]]\n"
     ]
    }
   ],
   "source": [
    "eta = 0.1  # learning rate\n",
    "n_iterations = 1000\n",
    "m = 100\n",
    "\n",
    "theta = np.random.randn(2, 1)  # random initialization\n",
    "\n",
    "for iteration in range(n_iterations):\n",
    "    gradients = 2 / m * X_b.T.dot(X_b.dot(theta) - y)\n",
    "    theta = theta - eta * gradients\n",
    "\n",
    "print(f\"Parameters vector as determined by Batch Gradient Descent:{theta}\")"
   ]
  },
  {
   "cell_type": "markdown",
   "metadata": {},
   "source": [
    "**These are precisely the values determined by the normal equation!**"
   ]
  },
  {
   "cell_type": "markdown",
   "metadata": {},
   "source": [
    "**Batch Gradient Descent is very slow when the training set is large as it uses the whole set on each iteration. Stochastic (Random) Gradient Descent is a similar algorithm but uses a single instance, randomly chosen from the training set, on each iteration, to compute the gradients vector and theta next. It is much faster but less accurate. To avoid bouncing around after finding the best parameters vector that minimizes the MSE function, the eta (learning rate) is gradually reduced in a process called learning schedule. This process is called simulated annealing, because it resembles the process of annealing in metallurgy where molten metal is slowly cooled down. By convention we iterate by rounds of m iterations; each round is called an epoch. While the Batch Gradient Descent code iterated 1,000 times through the whole training set, this code goes through the training set only 50 times and reaches a fairly good solution**"
   ]
  },
  {
   "cell_type": "code",
   "execution_count": 22,
   "metadata": {},
   "outputs": [
    {
     "name": "stdout",
     "output_type": "stream",
     "text": [
      "Parameters vector as determined by Stochastic Gradient Descent:[[3.88788083]\n",
      " [3.01708896]]\n"
     ]
    }
   ],
   "source": [
    "n_epochs = 50\n",
    "\n",
    "def learning_schedule(t):  # Local function\n",
    "    t0, t1 = 5, 50\n",
    "    return t0 / (t + t1)\n",
    "\n",
    "theta = np.random.randn(2, 1)  # random initialization\n",
    "\n",
    "for epoch in range(n_epochs):\n",
    "    for i in range(m):\n",
    "        random_index = np.random.randint(m)\n",
    "        xi = np.array([X_b[random_index, ]])\n",
    "        yi = np.array([y[random_index, ]])\n",
    "        gradients = 2 * xi.T.dot(xi.dot(theta) - yi)\n",
    "        eta = learning_schedule(epoch * m + i)  # This will gradually reduce eta on each epoch as i increases and globally as epoch increases\n",
    "        theta = theta - eta * gradients\n",
    "\n",
    "print(f\"Parameters vector as determined by Stochastic Gradient Descent:{theta}\")"
   ]
  },
  {
   "cell_type": "markdown",
   "metadata": {},
   "source": [
    "**Min-Batch Gradient Descent is a common ground between Batch and Stochastic Gradient Decent algorithms. At each training step will compute the gradients based on a mini batch from the training set**"
   ]
  },
  {
   "cell_type": "code",
   "execution_count": 23,
   "metadata": {},
   "outputs": [
    {
     "name": "stdout",
     "output_type": "stream",
     "text": [
      "Parameters vector as determined by Mini-Batch Gradient Descent:[[3.8592836 ]\n",
      " [2.98391042]]\n"
     ]
    }
   ],
   "source": [
    "mini_batch_size = 50\n",
    "n_iterations = 500\n",
    "eta = 0.1  # learning rate\n",
    "theta = np.random.randn(2, 1)  # random initialization\n",
    "\n",
    "for i in range(n_iterations):\n",
    "    from_index = np.random.randint(0, 74)\n",
    "    to_index = from_index + mini_batch_size\n",
    "    mini_batch_x = X_b[from_index:to_index, :]\n",
    "    mini_batch_y = y[from_index:to_index, :]\n",
    "    gradients = 2 / mini_batch_size * mini_batch_x.T.dot(mini_batch_x.dot(theta) - mini_batch_y)\n",
    "    theta = theta - eta * gradients\n",
    "\n",
    "print(f\"Parameters vector as determined by Mini-Batch Gradient Descent:{theta}\")"
   ]
  }
 ],
 "metadata": {
  "kernelspec": {
   "display_name": "Python 3",
   "language": "python",
   "name": "python3"
  },
  "language_info": {
   "codemirror_mode": {
    "name": "ipython",
    "version": 3
   },
   "file_extension": ".py",
   "mimetype": "text/x-python",
   "name": "python",
   "nbconvert_exporter": "python",
   "pygments_lexer": "ipython3",
   "version": "3.7.2"
  }
 },
 "nbformat": 4,
 "nbformat_minor": 2
}
