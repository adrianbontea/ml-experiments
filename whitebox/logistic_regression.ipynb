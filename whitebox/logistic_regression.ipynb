{
 "cells": [
  {
   "cell_type": "code",
   "execution_count": 1,
   "metadata": {},
   "outputs": [
    {
     "name": "stdout",
     "output_type": "stream",
     "text": [
      "dict_keys(['data', 'target', 'target_names', 'DESCR', 'feature_names', 'filename'])\n"
     ]
    }
   ],
   "source": [
    "import numpy as np\n",
    "from sklearn.datasets import load_iris\n",
    "from sklearn.linear_model import LogisticRegression\n",
    "import warnings\n",
    "\n",
    "warnings.simplefilter(\"ignore\")\n",
    "\n",
    "iris = load_iris()  # This is of type Bunch - a subclass of dict that supports attribute-style access (a la JavaScript)\n",
    "print(iris.keys())"
   ]
  },
  {
   "cell_type": "markdown",
   "metadata": {},
   "source": [
    "**Last column of all arrays in first dimension - petal width. Note we use `iris.data[:, 3:]` instead of `iris.data[:, 3]` which is conceptually equivalent in order to get a shape of (150,1) as opposed to (150,) - estimators-predictors in Scikit-Learn work with bi-dimensional ndarrays for X (shape (n_samples, n_features))**"
   ]
  },
  {
   "cell_type": "code",
   "execution_count": 2,
   "metadata": {},
   "outputs": [],
   "source": [
    "X = iris.data[:, 3:]"
   ]
  },
  {
   "cell_type": "markdown",
   "metadata": {},
   "source": [
    "**Target is a ndarray of shape (150,) containing multiclass labels: 0, 1, 2 and 3. Transform to binary labels: True if Iris-Virginica, False otherwise**"
   ]
  },
  {
   "cell_type": "code",
   "execution_count": 3,
   "metadata": {},
   "outputs": [
    {
     "data": {
      "text/plain": [
       "LogisticRegression(C=1.0, class_weight=None, dual=False, fit_intercept=True,\n",
       "          intercept_scaling=1, max_iter=100, multi_class='warn',\n",
       "          n_jobs=None, penalty='l2', random_state=None, solver='warn',\n",
       "          tol=0.0001, verbose=0, warm_start=False)"
      ]
     },
     "execution_count": 3,
     "metadata": {},
     "output_type": "execute_result"
    }
   ],
   "source": [
    "y = (iris.target == 2)\n",
    "\n",
    "log_reg = LogisticRegression()\n",
    "log_reg.fit(X, y)"
   ]
  },
  {
   "cell_type": "markdown",
   "metadata": {},
   "source": [
    "**Let's predict on a set of 20 instances with petal width a float between 0 and 3. The petal width of Iris-Virginica flowers ranges from 1.4 cm to 2.5 cm while the other iris flowers generally have a smaller petal width, ranging from 0.1 cm to 1.8 cm.**"
   ]
  },
  {
   "cell_type": "code",
   "execution_count": 5,
   "metadata": {},
   "outputs": [
    {
     "name": "stdout",
     "output_type": "stream",
     "text": [
      "Trained with a single feature. Logistic Regression Predicted Probabilities:[[0.94631257 0.05368743]\n",
      " [0.92256675 0.07743325]\n",
      " [0.84414501 0.15585499]\n",
      " [0.44196909 0.55803091]\n",
      " [0.25000296 0.74999704]\n",
      " [0.4075295  0.5924705 ]\n",
      " [0.11297979 0.88702021]\n",
      " [0.80045058 0.19954942]\n",
      " [0.9703262  0.0296738 ]\n",
      " [0.95531229 0.04468771]\n",
      " [0.92659159 0.07340841]\n",
      " [0.88395096 0.11604904]\n",
      " [0.69497341 0.30502659]\n",
      " [0.84266839 0.15733161]\n",
      " [0.94560846 0.05439154]\n",
      " [0.97088198 0.02911802]\n",
      " [0.07968944 0.92031056]\n",
      " [0.03067714 0.96932286]\n",
      " [0.07608923 0.92391077]\n",
      " [0.07001053 0.92998947]]\n",
      "Trained with a single feature. Logistic Regression Predicted Binary Labels:[False False False  True  True  True  True False False False False False\n",
      " False False False False  True  True  True  True]\n"
     ]
    }
   ],
   "source": [
    "X_new = np.random.uniform(0, 3, (20, 1))\n",
    "\n",
    "print(f\"Trained with a single feature. Logistic Regression Predicted Probabilities:{log_reg.predict_proba(X_new)}\")\n",
    "print(f\"Trained with a single feature. Logistic Regression Predicted Binary Labels:{log_reg.predict(X_new)}\")"
   ]
  },
  {
   "cell_type": "markdown",
   "metadata": {},
   "source": [
    "**Train with all the features (sepal length, sepal width, petal length, petal width)**"
   ]
  },
  {
   "cell_type": "code",
   "execution_count": 6,
   "metadata": {},
   "outputs": [
    {
     "name": "stdout",
     "output_type": "stream",
     "text": [
      "Trained with all features. Logistic Regression Predicted Binary Labels:[False  True  True False  True False False  True  True  True  True False\n",
      " False False False  True  True  True  True  True]\n"
     ]
    }
   ],
   "source": [
    "X = iris.data\n",
    "log_reg = LogisticRegression()\n",
    "log_reg.fit(X, y)\n",
    "\n",
    "X_new = np.random.uniform(0, 5, (20, 4))\n",
    "\n",
    "print(f\"Trained with all features. Logistic Regression Predicted Binary Labels:{log_reg.predict(X_new)}\")"
   ]
  },
  {
   "cell_type": "markdown",
   "metadata": {},
   "source": [
    "**Softmax Regression (Multinomial Logistic Regression) (Generalize Logistic Regression to multiclass classification)**"
   ]
  },
  {
   "cell_type": "code",
   "execution_count": 8,
   "metadata": {},
   "outputs": [
    {
     "name": "stdout",
     "output_type": "stream",
     "text": [
      "Softmax prediction for a flower with sepal and petal length = 5 and width = 2: virginica\n"
     ]
    }
   ],
   "source": [
    "X = iris.data\n",
    "y = iris.target\n",
    "\n",
    "softmax_reg = LogisticRegression(multi_class=\"multinomial\", solver=\"lbfgs\", C=100)\n",
    "softmax_reg.fit(X, y)\n",
    "\n",
    "print(f\"Softmax prediction for a flower with sepal and petal length = 5 and width = 2: {iris.target_names[softmax_reg.predict([[5, 2, 5, 2]])[0]]}\")"
   ]
  }
 ],
 "metadata": {
  "kernelspec": {
   "display_name": "Python 3",
   "language": "python",
   "name": "python3"
  },
  "language_info": {
   "codemirror_mode": {
    "name": "ipython",
    "version": 3
   },
   "file_extension": ".py",
   "mimetype": "text/x-python",
   "name": "python",
   "nbconvert_exporter": "python",
   "pygments_lexer": "ipython3",
   "version": "3.7.2"
  }
 },
 "nbformat": 4,
 "nbformat_minor": 2
}
