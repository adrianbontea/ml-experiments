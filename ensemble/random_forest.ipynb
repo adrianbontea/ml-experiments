{
 "cells": [
  {
   "cell_type": "code",
   "execution_count": 3,
   "metadata": {},
   "outputs": [],
   "source": [
    "from sklearn.ensemble import RandomForestClassifier, ExtraTreesClassifier\n",
    "import time\n",
    "import matplotlib.pyplot as plt\n",
    "from mnist import *\n",
    "import numpy as np\n",
    "import warnings\n",
    "\n",
    "warnings.simplefilter(\"ignore\")\n",
    "\n",
    "training_set_path = \"D:\\\\Projects\\\\ml-experiments\\\\datasets\\\\mnist\\\\train-images-idx3-ubyte.gz\"\n",
    "train_labels_path = \"D:\\\\Projects\\\\ml-experiments\\\\datasets\\\\mnist\\\\train-labels-idx1-ubyte.gz\"\n",
    "\n",
    "f_train = gzip.open(training_set_path)\n",
    "f_train_labels = gzip.open(train_labels_path)\n",
    "\n",
    "training_set = parse_idx(f_train)\n",
    "training_labels = parse_idx(f_train_labels)\n",
    "\n",
    "training_set_tr = training_set.reshape((60000, 784))"
   ]
  },
  {
   "cell_type": "markdown",
   "metadata": {},
   "source": [
    "**Some utility function to reuse throughout experiment**"
   ]
  },
  {
   "cell_type": "code",
   "execution_count": 4,
   "metadata": {},
   "outputs": [],
   "source": [
    "def get_random_digit(training_set, labels, digit):\n",
    "    indexes = np.where(labels == digit)[0]\n",
    "    return training_set[indexes[np.random.randint(0, len(indexes) - 1)]]"
   ]
  },
  {
   "cell_type": "markdown",
   "metadata": {},
   "source": [
    "**Instead of building a BaggingClassifier and passing it a DecisionTreeClassifier, you can instead use the RandomForestClassifier class, which is more convenient and optimized for Decision Trees. The following code trains a Random Forest classifier with 100 trees (each limited to maximum 16 nodes), using all available CPU cores**"
   ]
  },
  {
   "cell_type": "code",
   "execution_count": 5,
   "metadata": {},
   "outputs": [
    {
     "name": "stdout",
     "output_type": "stream",
     "text": [
      "Training the RandomForestClassifier took 3.961411952972412 seconds\n",
      "RandomForest Prediction: [9]\n"
     ]
    }
   ],
   "source": [
    "rnd_clf = RandomForestClassifier(n_estimators=100, max_leaf_nodes=16, n_jobs=-1)\n",
    "\n",
    "start_time = time.time()\n",
    "rnd_clf.fit(training_set_tr, training_labels)\n",
    "elapsed = time.time() - start_time\n",
    "\n",
    "print(f\"Training the RandomForestClassifier took {elapsed} seconds\")\n",
    "\n",
    "a_nine = get_random_digit(training_set_tr, training_labels, 9)  # 784 Pixel intensities from 0 to 255! (Grayscale 8-bit image)\n",
    "print(f\"RandomForest Prediction: {rnd_clf.predict([a_nine])}\")"
   ]
  },
  {
   "cell_type": "markdown",
   "metadata": {},
   "source": [
    "**The Random Forest algorithm introduces extra randomness when growing trees; instead of searching for the very best feature when splitting a node (minimize impurity), itsearches for the best feature among a random subset of features. This results in a greater tree diversity**"
   ]
  },
  {
   "cell_type": "markdown",
   "metadata": {},
   "source": [
    "**When you are growing a tree in a Random Forest, at each node only a random subset of the features is considered for splitting. It is possible to make trees even more random by also using random thresholds for each feature rather than searching for the best possible thresholds that minimize impurity (like regular Decision Trees do). A forest of such extremely random trees is simply called an Extremely Randomized Trees ensemble12 (or Extra-Trees for short).**"
   ]
  },
  {
   "cell_type": "code",
   "execution_count": 6,
   "metadata": {},
   "outputs": [
    {
     "name": "stdout",
     "output_type": "stream",
     "text": [
      "Training the ExtraTreesClassifier took 5.413560390472412 seconds\n",
      "ExtraTrees Prediction: [9]\n"
     ]
    }
   ],
   "source": [
    "extra_trees = ExtraTreesClassifier(n_estimators=100, max_leaf_nodes=16, n_jobs=-1)\n",
    "\n",
    "start_time = time.time()\n",
    "extra_trees.fit(training_set_tr, training_labels)\n",
    "elapsed = time.time() - start_time\n",
    "\n",
    "print(f\"Training the ExtraTreesClassifier took {elapsed} seconds\")\n",
    "print(f\"ExtraTrees Prediction: {extra_trees.predict([a_nine])}\")"
   ]
  },
  {
   "cell_type": "markdown",
   "metadata": {},
   "source": [
    "**If you look at a single Decision Tree, important features are likely to appear closer to the root of the tree, while unimportant features will often appear closer to the leaves (or not at all). It is therefore possible to get an estimate of a feature’s importance by computing the average depth at which it appears across all trees in the forest. Scikit-Learn computes this automatically for every feature after training. You can access the result using the feature_importances_ variable.**"
   ]
  },
  {
   "cell_type": "code",
   "execution_count": 7,
   "metadata": {},
   "outputs": [
    {
     "data": {
      "image/png": "[encoded data removed]",
      "text/plain": [
       "<Figure size 432x288 with 1 Axes>"
      ]
     },
     "metadata": {
      "needs_background": "light"
     },
     "output_type": "display_data"
    }
   ],
   "source": [
    "feature_importances = rnd_clf.feature_importances_  # The importance of every pixel. Shape (784,)\n",
    "feature_importances_as_image = feature_importances.reshape(28, 28)\n",
    "plt.imshow(feature_importances_as_image, cmap=plt.get_cmap(\"jet\"), interpolation=\"nearest\")\n",
    "plt.show()"
   ]
  }
 ],
 "metadata": {
  "kernelspec": {
   "display_name": "Python 3",
   "language": "python",
   "name": "python3"
  },
  "language_info": {
   "codemirror_mode": {
    "name": "ipython",
    "version": 3
   },
   "file_extension": ".py",
   "mimetype": "text/x-python",
   "name": "python",
   "nbconvert_exporter": "python",
   "pygments_lexer": "ipython3",
   "version": "3.7.2"
  }
 },
 "nbformat": 4,
 "nbformat_minor": 2
}
