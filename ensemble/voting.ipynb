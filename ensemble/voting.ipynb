{
 "cells": [
  {
   "cell_type": "code",
   "execution_count": 3,
   "metadata": {},
   "outputs": [],
   "source": [
    "from sklearn.ensemble import VotingClassifier\n",
    "from sklearn.ensemble import RandomForestClassifier\n",
    "from sklearn.linear_model import SGDClassifier\n",
    "from sklearn.neighbors import KNeighborsClassifier\n",
    "from sklearn.metrics import accuracy_score\n",
    "from mnist import *\n",
    "import warnings\n",
    "\n",
    "warnings.simplefilter(\"ignore\")\n",
    "\n",
    "training_set_path = \"D:\\\\Projects\\\\ml-experiments\\\\datasets\\\\mnist\\\\train-images-idx3-ubyte.gz\"\n",
    "train_labels_path = \"D:\\\\Projects\\\\ml-experiments\\\\datasets\\\\mnist\\\\train-labels-idx1-ubyte.gz\"\n",
    "\n",
    "test_set_path = \"D:\\\\Projects\\\\ml-experiments\\\\datasets\\\\mnist\\\\t10k-images-idx3-ubyte.gz\"\n",
    "test_labels_path = \"D:\\\\Projects\\\\ml-experiments\\\\datasets\\\\mnist\\\\t10k-labels-idx1-ubyte.gz\"\n",
    "\n",
    "f_train = gzip.open(training_set_path)\n",
    "f_train_labels = gzip.open(train_labels_path)\n",
    "\n",
    "f_test = gzip.open(test_set_path)\n",
    "f_test_labels = gzip.open(test_labels_path)\n",
    "\n",
    "training_set = parse_idx(f_train)[:1000,]\n",
    "training_labels = parse_idx(f_train_labels)[:1000,]\n",
    "\n",
    "test_set = parse_idx(f_test)[:100,]\n",
    "test_labels = parse_idx(f_test_labels)[:100,]\n",
    "\n",
    "training_set_tr = training_set.reshape((1000, 784))\n",
    "test_set_tr = test_set.reshape((100, 784))"
   ]
  },
  {
   "cell_type": "markdown",
   "metadata": {},
   "source": [
    "**Hard Voting (The class with the higher number of votes is output)**"
   ]
  },
  {
   "cell_type": "code",
   "execution_count": 5,
   "metadata": {},
   "outputs": [
    {
     "name": "stdout",
     "output_type": "stream",
     "text": [
      "SGDClassifier 0.83\n",
      "RandomForestClassifier 0.78\n",
      "KNeighborsClassifier 0.84\n",
      "VotingClassifier 0.86\n"
     ]
    }
   ],
   "source": [
    "sgd_clf = SGDClassifier()\n",
    "rnd_clf = RandomForestClassifier()\n",
    "k_clf = KNeighborsClassifier()  # Note: training this is very slow on the WHOLE MNIST data set\n",
    "\n",
    "voting_clf = VotingClassifier(estimators=[('sgd', sgd_clf), ('rf', rnd_clf), ('k', k_clf)], voting='hard')\n",
    "\n",
    "for clf in [sgd_clf, rnd_clf, k_clf, voting_clf]:\n",
    "    clf.fit(training_set_tr, training_labels)\n",
    "    predictions = clf.predict(test_set_tr)\n",
    "    print(type(clf).__name__, accuracy_score(test_labels, predictions))"
   ]
  }
 ],
 "metadata": {
  "kernelspec": {
   "display_name": "Python 3",
   "language": "python",
   "name": "python3"
  },
  "language_info": {
   "codemirror_mode": {
    "name": "ipython",
    "version": 3
   },
   "file_extension": ".py",
   "mimetype": "text/x-python",
   "name": "python",
   "nbconvert_exporter": "python",
   "pygments_lexer": "ipython3",
   "version": "3.7.2"
  }
 },
 "nbformat": 4,
 "nbformat_minor": 2
}
