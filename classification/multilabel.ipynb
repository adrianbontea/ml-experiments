{
 "cells": [
  {
   "cell_type": "code",
   "execution_count": 1,
   "metadata": {},
   "outputs": [],
   "source": [
    "from mnist import *\n",
    "import numpy as np\n",
    "from sklearn.ensemble import RandomForestClassifier\n",
    "from sklearn.neighbors import KNeighborsClassifier\n",
    "import warnings\n",
    "\n",
    "warnings.simplefilter(\"ignore\")\n",
    "\n",
    "training_set_path = \"D:\\\\Projects\\\\ml-experiments\\\\datasets\\\\mnist\\\\train-images-idx3-ubyte.gz\"\n",
    "labels_path = \"D:\\\\Projects\\\\ml-experiments\\\\datasets\\\\mnist\\\\train-labels-idx1-ubyte.gz\"\n",
    "\n",
    "f_train = gzip.open(training_set_path)\n",
    "f_labels = gzip.open(labels_path)\n",
    "\n",
    "training_set = parse_idx(f_train)\n",
    "labels = parse_idx(f_labels)\n",
    "\n",
    "training_set_tr = training_set.reshape((60000, 784))"
   ]
  },
  {
   "cell_type": "markdown",
   "metadata": {},
   "source": [
    "**Some utility function to reuse throughout experiment**"
   ]
  },
  {
   "cell_type": "code",
   "execution_count": 2,
   "metadata": {},
   "outputs": [],
   "source": [
    "def get_random_digit(training_set, labels, digit):\n",
    "    indexes = np.where(labels == digit)[0]\n",
    "    return training_set[indexes[np.random.randint(0, len(indexes) - 1)]]"
   ]
  },
  {
   "cell_type": "markdown",
   "metadata": {},
   "source": [
    "**Introduce just 2 classes (as opposed to 9 for 9 digits): large digits and even digits**"
   ]
  },
  {
   "cell_type": "code",
   "execution_count": 4,
   "metadata": {},
   "outputs": [],
   "source": [
    "large_digits = (labels > 7)\n",
    "even_digits = (labels % 2 == 0)"
   ]
  },
  {
   "cell_type": "markdown",
   "metadata": {},
   "source": [
    "**Double labels (pairs) - shape (60000, 2)**"
   ]
  },
  {
   "cell_type": "code",
   "execution_count": 7,
   "metadata": {},
   "outputs": [
    {
     "name": "stdout",
     "output_type": "stream",
     "text": [
      "K-Neighbors prediction for 8 is: [[ True  True]]\n",
      "K-Neighbors prediction for 9 is: [[ True False]]\n"
     ]
    }
   ],
   "source": [
    "double_labels = np.append(large_digits.reshape((60000, 1)), even_digits.reshape((60000, 1)), axis=1)\n",
    "\n",
    "classifier = KNeighborsClassifier()\n",
    "classifier.fit(training_set_tr, double_labels)\n",
    "\n",
    "eight = get_random_digit(training_set_tr, labels, 8)\n",
    "nine = get_random_digit(training_set_tr, labels, 9)\n",
    "\n",
    "print(f\"K-Neighbors prediction for 8 is: {classifier.predict([eight])}\")\n",
    "print(f\"K-Neighbors prediction for 9 is: {classifier.predict([nine])}\")"
   ]
  },
  {
   "cell_type": "code",
   "execution_count": null,
   "metadata": {},
   "outputs": [],
   "source": []
  }
 ],
 "metadata": {
  "kernelspec": {
   "display_name": "Python 3",
   "language": "python",
   "name": "python3"
  },
  "language_info": {
   "codemirror_mode": {
    "name": "ipython",
    "version": 3
   },
   "file_extension": ".py",
   "mimetype": "text/x-python",
   "name": "python",
   "nbconvert_exporter": "python",
   "pygments_lexer": "ipython3",
   "version": "3.7.2"
  }
 },
 "nbformat": 4,
 "nbformat_minor": 2
}
