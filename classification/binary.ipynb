{
 "cells": [
  {
   "cell_type": "code",
   "execution_count": 112,
   "metadata": {},
   "outputs": [],
   "source": [
    "from mnist import *\n",
    "import numpy as np\n",
    "from sklearn.linear_model import SGDClassifier\n",
    "from sklearn.metrics import confusion_matrix, precision_score, recall_score, f1_score, precision_recall_curve\n",
    "from sklearn.model_selection import cross_val_predict\n",
    "import matplotlib.pyplot as plt\n",
    "import matplotlib\n",
    "import warnings\n",
    "\n",
    "warnings.simplefilter(\"ignore\")\n",
    "\n",
    "training_set_path = \"D:\\\\Projects\\\\ml-experiments\\\\datasets\\\\mnist\\\\train-images-idx3-ubyte.gz\"\n",
    "labels_path = \"D:\\\\Projects\\\\ml-experiments\\\\datasets\\\\mnist\\\\train-labels-idx1-ubyte.gz\"\n",
    "\n",
    "f_train = gzip.open(training_set_path)\n",
    "f_labels = gzip.open(labels_path)\n",
    "\n",
    "training_set = parse_idx(f_train)\n",
    "labels = parse_idx(f_labels)"
   ]
  },
  {
   "cell_type": "markdown",
   "metadata": {},
   "source": [
    "**Some utility functions to reuse throughout this experiment:**"
   ]
  },
  {
   "cell_type": "code",
   "execution_count": 113,
   "metadata": {},
   "outputs": [],
   "source": [
    "def get_index_of_random_true(binary_labels):\n",
    "    indexes_of_trues = np.where(binary_labels == True)[0]\n",
    "    return indexes_of_trues[np.random.randint(0, len(indexes_of_trues) - 1)]\n",
    "\n",
    "def get_index_of_random_false(binary_labels):\n",
    "    indexes_of_falses = np.where(binary_labels == False)[0]\n",
    "    return indexes_of_falses[np.random.randint(0, len(indexes_of_falses) - 1)]\n",
    "\n",
    "def get_thresholds_for(precisions, recalls, thresholds, precision_at_least, recall_at_least):\n",
    "    indexes_precisions = np.where(precisions > precision_at_least)[0]\n",
    "    indexes_recalls = np.where(recalls > recall_at_least)[0]\n",
    "    intersection_indexes = np.intersect1d(indexes_precisions, indexes_recalls)\n",
    "\n",
    "    return thresholds[intersection_indexes]\n",
    "\n",
    "def show_digit(digit):\n",
    "    if digit.shape != (28, 28):\n",
    "        digit = digit.reshape((28, 28))\n",
    "    plt.imshow(digit, cmap=matplotlib.cm.binary, interpolation=\"nearest\")\n",
    "    plt.show()"
   ]
  },
  {
   "cell_type": "markdown",
   "metadata": {},
   "source": [
    "**Training set needs to be reshaped from 3D (60000,28,28) to 2D (60000, 784) for the classifier to be able to use in training phase**"
   ]
  },
  {
   "cell_type": "code",
   "execution_count": 114,
   "metadata": {},
   "outputs": [],
   "source": [
    "training_set_tr = training_set.reshape((60000, 784))"
   ]
  },
  {
   "cell_type": "markdown",
   "metadata": {},
   "source": [
    "**Transform the labels to an array of binary labels (5 or not 5)**"
   ]
  },
  {
   "cell_type": "code",
   "execution_count": 115,
   "metadata": {
    "scrolled": true
   },
   "outputs": [
    {
     "data": {
      "text/plain": [
       "SGDClassifier(alpha=0.0001, average=False, class_weight=None,\n",
       "       early_stopping=False, epsilon=0.1, eta0=0.0, fit_intercept=True,\n",
       "       l1_ratio=0.15, learning_rate='optimal', loss='hinge', max_iter=None,\n",
       "       n_iter=None, n_iter_no_change=5, n_jobs=None, penalty='l2',\n",
       "       power_t=0.5, random_state=77, shuffle=True, tol=None,\n",
       "       validation_fraction=0.1, verbose=0, warm_start=False)"
      ]
     },
     "execution_count": 115,
     "metadata": {},
     "output_type": "execute_result"
    }
   ],
   "source": [
    "five_binary_labels = (labels == 5)\n",
    "sgd_classifier = SGDClassifier(random_state=77)\n",
    "sgd_classifier.fit(training_set_tr, five_binary_labels)"
   ]
  },
  {
   "cell_type": "markdown",
   "metadata": {},
   "source": [
    "**Pick a five**"
   ]
  },
  {
   "cell_type": "code",
   "execution_count": 116,
   "metadata": {},
   "outputs": [
    {
     "data": {
      "image/png": "[encoded data removed]",
      "text/plain": [
       "<Figure size 432x288 with 1 Axes>"
      ]
     },
     "metadata": {
      "needs_background": "light"
     },
     "output_type": "display_data"
    }
   ],
   "source": [
    "index_of_five = get_index_of_random_true(five_binary_labels)\n",
    "some_digit = training_set_tr[index_of_five, ]\n",
    "show_digit(some_digit)"
   ]
  },
  {
   "cell_type": "code",
   "execution_count": 117,
   "metadata": {},
   "outputs": [
    {
     "name": "stdout",
     "output_type": "stream",
     "text": [
      "some_digit is a 5: [ True]\n"
     ]
    }
   ],
   "source": [
    "print(\"some_digit is a 5:\", sgd_classifier.predict([some_digit]))"
   ]
  },
  {
   "cell_type": "markdown",
   "metadata": {},
   "source": [
    "**Pick a not five**"
   ]
  },
  {
   "cell_type": "code",
   "execution_count": 118,
   "metadata": {},
   "outputs": [
    {
     "data": {
      "image/png": "[encoded data removed]",
      "text/plain": [
       "<Figure size 432x288 with 1 Axes>"
      ]
     },
     "metadata": {
      "needs_background": "light"
     },
     "output_type": "display_data"
    }
   ],
   "source": [
    "index_of_not_five = get_index_of_random_false(five_binary_labels)\n",
    "some_digit = training_set_tr[index_of_not_five, ]\n",
    "show_digit(some_digit)"
   ]
  },
  {
   "cell_type": "code",
   "execution_count": 119,
   "metadata": {},
   "outputs": [
    {
     "name": "stdout",
     "output_type": "stream",
     "text": [
      "some_digit is a 5: [False]\n"
     ]
    }
   ],
   "source": [
    "print(\"some_digit is a 5:\", sgd_classifier.predict([some_digit]))"
   ]
  },
  {
   "cell_type": "markdown",
   "metadata": {},
   "source": [
    "**Evaluate the current SGD classifier**"
   ]
  },
  {
   "cell_type": "code",
   "execution_count": 120,
   "metadata": {},
   "outputs": [
    {
     "name": "stdout",
     "output_type": "stream",
     "text": [
      "Confusion Matrix for random_state = 77:\n",
      "[[54168   411]\n",
      " [ 1762  3659]]\n"
     ]
    }
   ],
   "source": [
    "y_train_pred = cross_val_predict(sgd_classifier, training_set_tr, five_binary_labels, cv=3)\n",
    "cm = confusion_matrix(five_binary_labels, y_train_pred)\n",
    "print(\"Confusion Matrix for random_state = 77:\")\n",
    "print(cm)"
   ]
  },
  {
   "cell_type": "markdown",
   "metadata": {},
   "source": [
    "**Each row represents an actual class (being a binary classifier only two classes: 0 and 1 top-down) and each column represents a predicted class (0 and 1 left-right). That is 54168 true negatives, 411 false positives, 1762 false negatives and 3659 true positives**"
   ]
  },
  {
   "cell_type": "markdown",
   "metadata": {},
   "source": [
    "**Precision: $\\frac{TP}{TP+FP}$**"
   ]
  },
  {
   "cell_type": "code",
   "execution_count": 121,
   "metadata": {},
   "outputs": [
    {
     "name": "stdout",
     "output_type": "stream",
     "text": [
      "Precision for random_state=77: 0.899017199017199\n"
     ]
    }
   ],
   "source": [
    "print(f\"Precision for random_state=77: {precision_score(five_binary_labels, y_train_pred)}\")"
   ]
  },
  {
   "cell_type": "markdown",
   "metadata": {},
   "source": [
    "**Recall (Sensitivity): $\\frac{TP}{TP+FN}$**"
   ]
  },
  {
   "cell_type": "code",
   "execution_count": 122,
   "metadata": {},
   "outputs": [
    {
     "name": "stdout",
     "output_type": "stream",
     "text": [
      "Sensitivity for random_state=77: 0.6749677181331858\n"
     ]
    }
   ],
   "source": [
    "print(f\"Sensitivity for random_state=77: {recall_score(five_binary_labels, y_train_pred)}\")"
   ]
  },
  {
   "cell_type": "markdown",
   "metadata": {},
   "source": [
    "**Precision and Sensitivity are 1 for an IDEAL classifier. That is when both FP and FN are 0 (in other words no mistakes). Let's try with a lower random_state:**"
   ]
  },
  {
   "cell_type": "code",
   "execution_count": 123,
   "metadata": {},
   "outputs": [
    {
     "name": "stdout",
     "output_type": "stream",
     "text": [
      "Confusion Matrix for random_state=42:\n",
      "[[52992  1587]\n",
      " [ 1074  4347]]\n",
      "Precision for random_state=42: 0.7325581395348837\n",
      "Sensitivity for random_state=42: 0.8018815716657444\n"
     ]
    }
   ],
   "source": [
    "sgd_classifier = SGDClassifier(random_state=42)\n",
    "\n",
    "y_train_pred = cross_val_predict(sgd_classifier, training_set_tr, five_binary_labels, cv=3)\n",
    "cm = confusion_matrix(five_binary_labels, y_train_pred)\n",
    "\n",
    "print(\"Confusion Matrix for random_state=42:\")\n",
    "print(cm)\n",
    "print(f\"Precision for random_state=42: {precision_score(five_binary_labels, y_train_pred)}\")\n",
    "print(f\"Sensitivity for random_state=42: {recall_score(five_binary_labels, y_train_pred)}\")"
   ]
  },
  {
   "cell_type": "markdown",
   "metadata": {},
   "source": [
    "**Precision-Recall Trade off:**"
   ]
  },
  {
   "cell_type": "markdown",
   "metadata": {},
   "source": [
    "**Increasing the threshold increases precision and decreases recall. Conversely, decreasing threshold increases recall and decreases precision**"
   ]
  },
  {
   "cell_type": "markdown",
   "metadata": {},
   "source": [
    "**The random_state parameter of the classifier corresponds to the threshold. A binary classifier (such as this SGDClassifier) implements a decision function that outputs a score. If the score is greater than the threshold, the output of a simple prediction will be the positive class otherwise negative**"
   ]
  },
  {
   "cell_type": "code",
   "execution_count": 124,
   "metadata": {},
   "outputs": [
    {
     "name": "stdout",
     "output_type": "stream",
     "text": [
      "[ True]\n"
     ]
    }
   ],
   "source": [
    "sgd_classifier = SGDClassifier(random_state=77)\n",
    "sgd_classifier.fit(training_set_tr, five_binary_labels)\n",
    "\n",
    "index_of_five = get_index_of_random_true(five_binary_labels)\n",
    "some_digit = training_set_tr[index_of_five, ]\n",
    "\n",
    "score = sgd_classifier.decision_function([some_digit])\n",
    "threshold = 0\n",
    "\n",
    "print(score > threshold)"
   ]
  },
  {
   "cell_type": "code",
   "execution_count": 125,
   "metadata": {},
   "outputs": [
    {
     "name": "stdout",
     "output_type": "stream",
     "text": [
      "[False]\n"
     ]
    }
   ],
   "source": [
    "threshold = 300000\n",
    "print(score > threshold)"
   ]
  },
  {
   "cell_type": "code",
   "execution_count": 126,
   "metadata": {},
   "outputs": [],
   "source": [
    "sgd_classifier = SGDClassifier(random_state=77)"
   ]
  },
  {
   "cell_type": "markdown",
   "metadata": {},
   "source": [
    "**Get the scores of all instances in the training set using K-fold predictions**"
   ]
  },
  {
   "cell_type": "code",
   "execution_count": 127,
   "metadata": {},
   "outputs": [],
   "source": [
    "scores = cross_val_predict(sgd_classifier, training_set_tr, five_binary_labels, cv=3, method=\"decision_function\")"
   ]
  },
  {
   "cell_type": "markdown",
   "metadata": {},
   "source": [
    "**Now compute the Precision-Recall curves for each possible thresholds**"
   ]
  },
  {
   "cell_type": "code",
   "execution_count": 128,
   "metadata": {},
   "outputs": [],
   "source": [
    "precisions, recalls, thresholds = precision_recall_curve(five_binary_labels, scores)"
   ]
  },
  {
   "cell_type": "markdown",
   "metadata": {},
   "source": [
    "**Get list of thresholds that would result in a precision of at least 88% and recall of at least 70%. Note ndarrays of precision and recall (dimension 1) are one element larger than thresholds so we select all but last element**"
   ]
  },
  {
   "cell_type": "code",
   "execution_count": 130,
   "metadata": {},
   "outputs": [
    {
     "name": "stdout",
     "output_type": "stream",
     "text": [
      "Thresholds for Precision at least 0.88 and Recall at least 0.7 are:[-15023.28424725 -14976.36859095 -14947.85029725 -14733.83007086\n",
      " -14627.36187948 -14590.34676995 -14552.7316343  -14548.95052097\n",
      " -14526.06483497 -14518.00509337 -14466.15635848 -14425.36781658\n",
      " -14413.02176577 -14355.7080478  -14236.00595972 -14229.34994907\n",
      " -14154.06525354 -14144.12263626 -14090.78135661 -14061.28640324\n",
      " -14048.94803339 -14021.88322212 -14016.15411966 -13999.43761858\n",
      " -13983.21863242 -13922.08173057 -13854.26276697 -13823.62653751\n",
      " -13802.52121602 -13785.51388696 -13695.16818697 -13693.07561611\n",
      " -13668.49069846]\n"
     ]
    }
   ],
   "source": [
    "thresholds_for_precision_and_recall = get_thresholds_for(precisions[:-1], recalls[:-1], thresholds, 0.88, 0.70)\n",
    "print(f\"Thresholds for Precision at least 0.88 and Recall at least 0.7 are:{thresholds_for_precision_and_recall}\")"
   ]
  },
  {
   "cell_type": "markdown",
   "metadata": {},
   "source": [
    "**We get 33 possible threshold values for which the precision would be at least 88% and recall at least 70%. Test one of them**"
   ]
  },
  {
   "cell_type": "code",
   "execution_count": 131,
   "metadata": {},
   "outputs": [
    {
     "name": "stdout",
     "output_type": "stream",
     "text": [
      "Precision:0.8814385150812065\n",
      "Sensitivity: 0.7007932115845785\n"
     ]
    }
   ],
   "source": [
    "test_threshold = thresholds_for_precision_and_recall[np.random.randint(0, len(thresholds_for_precision_and_recall) - 1)]\n",
    "predictions = scores > test_threshold\n",
    "\n",
    "print(f\"Precision:{precision_score(five_binary_labels, predictions)}\")\n",
    "print(f\"Sensitivity: {recall_score(five_binary_labels, predictions)}\")"
   ]
  },
  {
   "cell_type": "code",
   "execution_count": null,
   "metadata": {},
   "outputs": [],
   "source": []
  }
 ],
 "metadata": {
  "kernelspec": {
   "display_name": "Python 3",
   "language": "python",
   "name": "python3"
  },
  "language_info": {
   "codemirror_mode": {
    "name": "ipython",
    "version": 3
   },
   "file_extension": ".py",
   "mimetype": "text/x-python",
   "name": "python",
   "nbconvert_exporter": "python",
   "pygments_lexer": "ipython3",
   "version": "3.7.2"
  }
 },
 "nbformat": 4,
 "nbformat_minor": 2
}
