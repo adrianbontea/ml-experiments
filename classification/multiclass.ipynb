{
 "cells": [
  {
   "cell_type": "code",
   "execution_count": 3,
   "metadata": {},
   "outputs": [],
   "source": [
    "from mnist import *\n",
    "import numpy as np\n",
    "from sklearn.ensemble import RandomForestClassifier\n",
    "from sklearn.linear_model import SGDClassifier\n",
    "from sklearn.metrics import confusion_matrix\n",
    "from sklearn.model_selection import cross_val_predict\n",
    "from sklearn.multiclass import OneVsOneClassifier\n",
    "import warnings\n",
    "\n",
    "warnings.simplefilter(\"ignore\")\n",
    "\n",
    "training_set_path = \"D:\\\\Projects\\\\ml-experiments\\\\datasets\\\\mnist\\\\train-images-idx3-ubyte.gz\"\n",
    "labels_path = \"D:\\\\Projects\\\\ml-experiments\\\\datasets\\\\mnist\\\\train-labels-idx1-ubyte.gz\"\n",
    "\n",
    "f_train = gzip.open(training_set_path)\n",
    "f_labels = gzip.open(labels_path)\n",
    "\n",
    "training_set = parse_idx(f_train)\n",
    "labels = parse_idx(f_labels)\n",
    "\n",
    "training_set_tr = training_set.reshape((60000, 784))"
   ]
  },
  {
   "cell_type": "markdown",
   "metadata": {},
   "source": [
    "**Some utility function to reuse throughout experiment**"
   ]
  },
  {
   "cell_type": "code",
   "execution_count": 6,
   "metadata": {},
   "outputs": [],
   "source": [
    "def get_random_digit(training_set, labels, digit):\n",
    "    indexes = np.where(labels == digit)[0]\n",
    "    return training_set[indexes[np.random.randint(0, len(indexes) - 1)]]"
   ]
  },
  {
   "cell_type": "markdown",
   "metadata": {},
   "source": [
    "**Scikit-learn is smart enough to detect when you try to use a binary classification algorithm such as SGD on a multiclass classification task (when the labels are not binary) and automatically runs OvA strategy (trains N binary classifiers, one for each class) except for SVM for which it runs OvO (trains $\\frac{N(N-1)}{2}$ binary classifiers, one between 0 and 1, one between 1 and 2 etc)**"
   ]
  },
  {
   "cell_type": "code",
   "execution_count": 8,
   "metadata": {},
   "outputs": [
    {
     "name": "stdout",
     "output_type": "stream",
     "text": [
      "The digit is:[7]\n"
     ]
    }
   ],
   "source": [
    "sgd_classifier = SGDClassifier(random_state=77)\n",
    "sgd_classifier.fit(training_set_tr, labels)\n",
    "\n",
    "seven = get_random_digit(training_set_tr, labels, 7)\n",
    "print(f\"The digit is:{sgd_classifier.predict([seven])}\")"
   ]
  },
  {
   "cell_type": "markdown",
   "metadata": {},
   "source": [
    "**Get the classifier to return the decision scores for each class rather than a prediction. The class with the higher score is used for prediction**"
   ]
  },
  {
   "cell_type": "code",
   "execution_count": 9,
   "metadata": {},
   "outputs": [
    {
     "name": "stdout",
     "output_type": "stream",
     "text": [
      "The decision scores for the digit are: [[-396080.43900624 -891881.56024155 -513824.30984111 -123079.68175448\n",
      "  -446437.14777247 -396935.24971248 -973280.38077838   60582.85570627\n",
      "  -279833.19815629 -311486.91345771]]\n"
     ]
    }
   ],
   "source": [
    "scores = sgd_classifier.decision_function([seven])\n",
    "print(f\"The decision scores for the digit are: {scores}\")"
   ]
  },
  {
   "cell_type": "markdown",
   "metadata": {},
   "source": [
    "**Can also force Scikit-Learn to use the SGDClassifier with OvO strategy**"
   ]
  },
  {
   "cell_type": "code",
   "execution_count": 10,
   "metadata": {},
   "outputs": [
    {
     "name": "stdout",
     "output_type": "stream",
     "text": [
      "OvO: The digit is: [7]\n"
     ]
    }
   ],
   "source": [
    "ovo = OneVsOneClassifier(sgd_classifier)\n",
    "ovo.fit(training_set_tr, labels)\n",
    "print(\"OvO: The digit is:\", ovo.predict([seven]))"
   ]
  },
  {
   "cell_type": "markdown",
   "metadata": {},
   "source": [
    "**Random Forest algorithm can also be used for classification (besides regression - RandomForestRegressor) and is a multiclass algorithm so no need for OvA or OvO strategies**"
   ]
  },
  {
   "cell_type": "code",
   "execution_count": 11,
   "metadata": {},
   "outputs": [
    {
     "name": "stdout",
     "output_type": "stream",
     "text": [
      "Random Forest: The digit is:[7]\n",
      "Random Forest: Probabilities:[[0. 0. 0. 0. 0. 0. 0. 1. 0. 0.]]\n"
     ]
    }
   ],
   "source": [
    "rnd_forest = RandomForestClassifier()\n",
    "rnd_forest.fit(training_set_tr, labels)\n",
    "print(f\"Random Forest: The digit is:{rnd_forest.predict([seven])}\")\n",
    "print(f\"Random Forest: Probabilities:{rnd_forest.predict_proba([seven])}\")"
   ]
  },
  {
   "cell_type": "markdown",
   "metadata": {},
   "source": [
    "**Evaluate SGD Classifier vs Random Forest based on confusion matrix**"
   ]
  },
  {
   "cell_type": "code",
   "execution_count": 13,
   "metadata": {},
   "outputs": [
    {
     "name": "stdout",
     "output_type": "stream",
     "text": [
      "SGD Classifier Confusion Matrix:\n",
      "[[5671    3   22   11   30   31   34   10  104    7]\n",
      " [   1 6447   38   24    6   23   10   11  159   23]\n",
      " [ 107   77 4673  189  101   41  123   98  509   40]\n",
      " [  56   33  106 5254   14  158   23   54  349   84]\n",
      " [  24   24   23    6 4823   10   59   31  262  580]\n",
      " [ 128   33   36  271   81 4140   75   20  454  183]\n",
      " [  80   25   49    8  107  133 5404   11   96    5]\n",
      " [  32   24   33   34   68   10    4 5599   76  385]\n",
      " [  87  132   37  160   32  199   36   30 4965  173]\n",
      " [  39   41   24   85  136   55    2  325  313 4929]]\n",
      "\n",
      "Random Forest Classifier Confusion Matrix:\n",
      "[[5813    3   23   12    6   16   20    2   25    3]\n",
      " [   1 6613   42   18   15    5   11   13   12   12]\n",
      " [  55   38 5612   46   44   13   27   48   62   13]\n",
      " [  30   20  147 5626   14  115    3   44   90   42]\n",
      " [  20   19   24   16 5539    7   33   17   34  133]\n",
      " [  42   18   21  179   26 4989   52   11   54   29]\n",
      " [  48   15   22    9   28   71 5699    1   25    0]\n",
      " [   9   44   97   25   57    6    0 5912   15  100]\n",
      " [  45   55   85  146   55  103   49   15 5229   69]\n",
      " [  30   18   34   91  190   51    7   96   44 5388]]\n"
     ]
    }
   ],
   "source": [
    "sgd_predictions = cross_val_predict(sgd_classifier, training_set_tr, labels, cv=3)\n",
    "rnd_forest_predictions = cross_val_predict(rnd_forest, training_set_tr, labels, cv=3)\n",
    "\n",
    "print(\"SGD Classifier Confusion Matrix:\")\n",
    "print(confusion_matrix(labels, sgd_predictions))\n",
    "print()\n",
    "print(\"Random Forest Classifier Confusion Matrix:\")\n",
    "print(confusion_matrix(labels, rnd_forest_predictions))"
   ]
  },
  {
   "cell_type": "markdown",
   "metadata": {},
   "source": [
    "**Random Forest generally seems better - higher values on the main diagonal!**"
   ]
  }
 ],
 "metadata": {
  "kernelspec": {
   "display_name": "Python 3",
   "language": "python",
   "name": "python3"
  },
  "language_info": {
   "codemirror_mode": {
    "name": "ipython",
    "version": 3
   },
   "file_extension": ".py",
   "mimetype": "text/x-python",
   "name": "python",
   "nbconvert_exporter": "python",
   "pygments_lexer": "ipython3",
   "version": "3.7.2"
  }
 },
 "nbformat": 4,
 "nbformat_minor": 2
}
